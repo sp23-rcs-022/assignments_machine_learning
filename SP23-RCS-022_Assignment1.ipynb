{
 "cells": [
  {
   "cell_type": "code",
   "execution_count": 2,
   "id": "db003432",
   "metadata": {},
   "outputs": [],
   "source": [
    "# Assignment No 1\n",
    "# Machine Leaning\n",
    "# Submitted By - SP23-RCS-022"
   ]
  },
  {
   "cell_type": "code",
   "execution_count": 13,
   "id": "9644c16b",
   "metadata": {},
   "outputs": [],
   "source": [
    "## Task 0: Python Installation\n",
    "\n",
    "### 0.1 Anaconda is an open-source distribution of Python programming language for scientific computing. Installing \n",
    "### Anaconda will automatically install Python and the necessary packages for development and analysis. Go to the official \n",
    "### Anaconda page. Download the installer compatible with your system to install a fresh copy of Anaconda. Run the \n",
    "### installer and follow the instructions there.\n",
    "### 0.2 Verifying Installation\n",
    "### To test your installation, open Command Prompt or Anaconda Prompt and run the command\n",
    "###conda list\n",
    "### For a successful installation, a list of installed packages appears.\n",
    "\n",
    "####The anaconda is successfully intalled. On run the command 'conda list' on anaconda promt, a list of installed/\n",
    "###pakages appears."
   ]
  },
  {
   "cell_type": "code",
   "execution_count": null,
   "id": "30bb2ac0",
   "metadata": {},
   "outputs": [],
   "source": [
    "## Task 1: Lists, Dictionaries, Tuples"
   ]
  },
  {
   "cell_type": "code",
   "execution_count": 1,
   "id": "47ee2ebf",
   "metadata": {},
   "outputs": [
    {
     "name": "stdout",
     "output_type": "stream",
     "text": [
      "[27, 125, 343, 512, 1728]\n"
     ]
    }
   ],
   "source": [
    "###Task 1.1: Creaye a list: nums = [3, 5, 7, 8, 12], make another list named ‘cubes’ and append the cubes of the given list ‘nums’ \n",
    "###in this list and print it.\n",
    "\n",
    "nums = [3, 5, 7, 8, 12]\n",
    "cubes = []\n",
    "\n",
    "for num in nums:\n",
    "    cubes.append(num ** 3)\n",
    "    \n",
    "print(cubes)"
   ]
  },
  {
   "cell_type": "code",
   "execution_count": 14,
   "id": "2a51d04d",
   "metadata": {},
   "outputs": [
    {
     "name": "stdout",
     "output_type": "stream",
     "text": [
      "parrot: 2 legs\n",
      "goat: 4 legs\n",
      "spider: 8 legs\n",
      "crab: 10 legs\n",
      "Total legs: 24\n"
     ]
    }
   ],
   "source": [
    "###Task 1.2: Create an empty dictionary: dict = {}, add the following data to the dictionary: ‘parrot’: 2, ‘goat’: 4, ‘spider’: 8, ‘crab’: \n",
    "###10 as key value pairs.\n",
    "\n",
    "dictLegs = {}\n",
    "\n",
    "dictLegs['parrot'] = 2\n",
    "dictLegs['goat'] = 4\n",
    "dictLegs['spider'] = 8\n",
    "dictLegs['crab'] = 10\n",
    "\n",
    "###Task 1.3: Use the ‘items’ method to loop over the dictionary (dict) and print the animals and their corresponding legs.Sum \n",
    "###the legs of each animal, and print the total at the end.\n",
    "\n",
    "totalLegs = 0\n",
    "\n",
    "for animal, legs in dictLegs.items():\n",
    "    print(f\"{animal}: {legs} legs\")\n",
    "    totalLegs += legs\n",
    "    \n",
    "print(f\"Total legs: {totalLegs}\")"
   ]
  },
  {
   "cell_type": "code",
   "execution_count": 5,
   "id": "34f3b2b9",
   "metadata": {},
   "outputs": [
    {
     "name": "stdout",
     "output_type": "stream",
     "text": [
      "(3, 9, 4, [8, 6])\n"
     ]
    }
   ],
   "source": [
    "###Task 1.4: Create a tuple: A = (3, 9, 4, [5, 6]), change the value in the list from ‘5’ to ‘8’\n",
    "\n",
    "A = (3, 9, 4, [5, 6])\n",
    "A[3][0] = 8  # Modify value 5 to value 8 in the list inside the tuple\n",
    "\n",
    "print(A)\n",
    "\n",
    "###Task 1.5: Delete the tuple A.\n",
    "\n",
    "del A # A is now deleted."
   ]
  },
  {
   "cell_type": "code",
   "execution_count": 15,
   "id": "66c26b34",
   "metadata": {},
   "outputs": [
    {
     "name": "stdout",
     "output_type": "stream",
     "text": [
      "Occurrences of 'p': 2\n",
      "Index of 'l': 3\n"
     ]
    }
   ],
   "source": [
    "###Task 1.6: Create another tuple: B = (‘a’, ‘p’, ‘p’, ‘l’, ‘e’), print the number of occurrences of ‘p’ in the tuple.\n",
    "\n",
    "B = ('a', 'p', 'p', 'l', 'e')\n",
    "\n",
    "countP = B.count('p')\n",
    "print(f\"Occurrences of 'p': {countP}\")\n",
    "\n",
    "###Task 1.7: Print the index of ‘l’ in the tuple.\n",
    "\n",
    "indexL = B.index('l')\n",
    "print(f\"Index of 'l': {indexL}\")"
   ]
  },
  {
   "cell_type": "code",
   "execution_count": null,
   "id": "70c026e7",
   "metadata": {},
   "outputs": [],
   "source": [
    "#Task 2: Numpy"
   ]
  },
  {
   "cell_type": "code",
   "execution_count": 29,
   "id": "f3307ff5",
   "metadata": {},
   "outputs": [
    {
     "name": "stdout",
     "output_type": "stream",
     "text": [
      "[[2 3]\n",
      " [6 7]]\n",
      "[[ 2  3  4  4]\n",
      " [ 5  6  7  8]\n",
      " [10 11 12 12]]\n"
     ]
    }
   ],
   "source": [
    "###Task 2.1: Convert matrix A into a NumPy array\n",
    "\n",
    "import numpy as np\n",
    "\n",
    "A = np.array([[1, 2, 3, 4],\n",
    "              [5, 6, 7, 8],\n",
    "              [9, 10, 11, 12]])\n",
    "\n",
    "###Task 2.2: Use slicing to pull out the subarray consisting of the first 2 rows and columns 1 and 2. Store it in b which is a numpy \n",
    "###array of shape (2, 2).\n",
    "\n",
    "b = A[0:2, 1:3]  # First 2 rows and columns 1 and 2\n",
    "print(b)\n",
    "\n",
    "###\n",
    "\n",
    "C = np.empty_like(A)\n",
    "\n",
    "### Task 2.4: Add the vector z to each column of the matrix ‘A’ with an explicit loop and store it in 'C'.\n",
    "\n",
    "z = np.array([1, 0, 1])\n",
    "for i in range(A.shape[0]):\n",
    "     C[:, i] = A[:, i] + z\n",
    "    \n",
    "print(C)"
   ]
  },
  {
   "cell_type": "code",
   "execution_count": 31,
   "id": "990c921a",
   "metadata": {},
   "outputs": [
    {
     "name": "stdout",
     "output_type": "stream",
     "text": [
      "[[ 6  8]\n",
      " [10 12]]\n",
      "[[19 22]\n",
      " [43 50]]\n",
      "[[2.23606798 2.44948974]\n",
      " [2.64575131 2.82842712]]\n",
      "[[29 67]]\n",
      "[[4 6]]\n"
     ]
    }
   ],
   "source": [
    "###Task 2.5: Add and print the matrices X and Y.\n",
    "\n",
    "X = np.matrix([[1, 2],\n",
    "              [3, 4]])\n",
    "Y = np.matrix([[5, 6],\n",
    "              [7, 8]])\n",
    "v = np.array([9, 10])\n",
    "\n",
    "sumXY = X + Y\n",
    "print(sumXY)\n",
    "\n",
    "###Task 2.6: Multiply and print the matrices X and Y.\n",
    "\n",
    "productXY = X @ Y  # Matrix multiplication\n",
    "print(productXY)\n",
    "\n",
    "###Task 2.7: Compute and print the element wise square root of matrix Y.\n",
    "\n",
    "sqrtY = np.sqrt(Y)\n",
    "print(sqrtY)\n",
    "\n",
    "###Task 2.8:  Compute and print the dot product of the matrix X and vector v\n",
    "\n",
    "dotProductXv = np.dot(X,v)\n",
    "print(dotProductXv)\n",
    "\n",
    "###Task 2.9: Compute and print the sum of each column of X.\n",
    "\n",
    "columnSumsX = np.sum(X, axis=0)\n",
    "print(columnSumsX)"
   ]
  },
  {
   "cell_type": "code",
   "execution_count": null,
   "id": "67dc0c0c",
   "metadata": {},
   "outputs": [],
   "source": [
    "#Task 3: Functions and Loops"
   ]
  },
  {
   "cell_type": "code",
   "execution_count": 33,
   "id": "14bccf7f",
   "metadata": {},
   "outputs": [
    {
     "name": "stdout",
     "output_type": "stream",
     "text": [
      "Product of even numbers: 46080\n"
     ]
    }
   ],
   "source": [
    "###Task 3.1: Create a function ‘Compute’ that takes two arguments, distance and time, and use it to calculate velocity.\n",
    "\n",
    "\n",
    "def compute(distance, time):\n",
    "    if time == 0:\n",
    "        return \"Time cannot be zero.\"\n",
    "    velocity = distance / time\n",
    "    return velocity\n",
    "\n",
    "###Task 3.2: Make a list named ‘even_num’ that contains all even numbers up till 12. Create a function ‘mult’ that takes the list\n",
    "###‘even_num’ as an argument and calculates the products of all entries using a for loop.\n",
    "\n",
    "even_num = [2,4,6,8,10,12]  # List of even numbers till 12\n",
    "\n",
    "def mult(numbers):\n",
    "    product = 1\n",
    "    for num in numbers:\n",
    "        product *= num\n",
    "    return product\n",
    "\n",
    "# Example usage\n",
    "result = mult(even_num)\n",
    "print(f\"Product of even numbers: {result}\")"
   ]
  },
  {
   "cell_type": "code",
   "execution_count": null,
   "id": "f55b396e",
   "metadata": {},
   "outputs": [],
   "source": [
    "# Task 4: Pandas"
   ]
  },
  {
   "cell_type": "code",
   "execution_count": 43,
   "id": "34c045f1",
   "metadata": {},
   "outputs": [
    {
     "name": "stdout",
     "output_type": "stream",
     "text": [
      "   C1  C2  C3  C4\n",
      "0   1   6   7   7\n",
      "1   2   7   9   5\n",
      "0    6\n",
      "1    7\n",
      "2    5\n",
      "3    4\n",
      "4    8\n",
      "Name: C2, dtype: int64\n",
      "Updated DataFrame:\n",
      "   C1  C2  B3  C4  Sum\n",
      "0   1   6   7   7   21\n",
      "1   2   7   9   5   23\n",
      "2   3   5   8   2   18\n",
      "3   5   4   6   8   23\n",
      "4   5   8   5   8   26\n"
     ]
    }
   ],
   "source": [
    "import pandas as pd\n",
    "\n",
    "### Creating the DataFrame\n",
    "data = {\n",
    "    'C1': [1, 2, 3, 5, 5],\n",
    "    'C2': [6, 7, 5, 4, 8],\n",
    "    'C3': [7, 9, 8, 6, 5],\n",
    "    'C4': [7, 5, 2, 8, 8]\n",
    "}\n",
    "\n",
    "df = pd.DataFrame(data)\n",
    "\n",
    "### Task 4.1: Print only the first two rows of the dataframe.\n",
    "print(df.head(2))\n",
    "\n",
    "### Task 4.2: Print the second column.\n",
    "print(df['C2'])\n",
    "\n",
    "### Task 4.3: Change the name of the third column from 'C3' to 'B3'.\n",
    "df.rename(columns={'C3': 'B3'}, inplace=True)\n",
    "\n",
    "### Task 4.4: Add a new column to the dataframe and name it 'Sum'.\n",
    "df['Sum'] = 0  # Initialize the new column\n",
    "\n",
    "### Task 4.5: Sum the entries of each row and add the result in the column 'Sum'.\n",
    "df['Sum'] = df.sum(axis=1)\n",
    "\n",
    "### Print the updated DataFrame\n",
    "print(\"Updated DataFrame:\")\n",
    "print(df)"
   ]
  },
  {
   "cell_type": "code",
   "execution_count": 54,
   "id": "ed21ad26",
   "metadata": {},
   "outputs": [
    {
     "name": "stdout",
     "output_type": "stream",
     "text": [
      "\n",
      "\n",
      "    Gender  F_Color     B_Month  Weight\n",
      "0     Male    Black       March      77\n",
      "1     Male      Red       March      72\n",
      "2     Male    Black     October      53\n",
      "3   Female     Blue    February      63\n",
      "4     Male    black    October       80\n",
      "5   Female    Black    december      97\n",
      "6     Male   Orange      August      60\n",
      "7   Female      Red   September      59\n",
      "8     Male     Blue        July      60\n",
      "9     Male     Blue         May      58\n",
      "10  Female      Red    October       60\n",
      "11    Male    Black   September      65\n",
      "12    Male    Green    December      85\n",
      "13    Male    Black       April      72\n",
      "14    Male    Green    January       90\n",
      "15    Male   Yellow   November       90\n",
      "16    Male    Black      August      54\n",
      "17    Male    Black     January      82\n",
      "18    Male  Mustard   December       60\n",
      "19  Female    Black    October       76\n",
      "20    Male    Black   February       67\n",
      "21    Male   Yellow       April      74\n",
      "22    Male      Red  September       66\n",
      "\n",
      "\n",
      "\n",
      "\n",
      "   Gender F_Color     B_Month  Weight\n",
      "21   Male  Yellow       April      74\n",
      "22   Male     Red  September       66\n",
      "\n",
      "\n",
      "\n",
      "\n",
      "<class 'pandas.core.frame.DataFrame'>\n",
      "RangeIndex: 23 entries, 0 to 22\n",
      "Data columns (total 4 columns):\n",
      " #   Column   Non-Null Count  Dtype \n",
      "---  ------   --------------  ----- \n",
      " 0   Gender   23 non-null     object\n",
      " 1   F_Color  23 non-null     object\n",
      " 2   B_Month  23 non-null     object\n",
      " 3   Weight   23 non-null     int64 \n",
      "dtypes: int64(1), object(3)\n",
      "memory usage: 868.0+ bytes\n",
      "None\n",
      "\n",
      "\n",
      "\n",
      "\n",
      "(23, 4)\n",
      "\n",
      "\n",
      "\n",
      "\n",
      "    Gender  F_Color     B_Month  Weight\n",
      "2     Male    Black     October      53\n",
      "16    Male    Black      August      54\n",
      "9     Male     Blue         May      58\n",
      "7   Female      Red   September      59\n",
      "18    Male  Mustard   December       60\n",
      "10  Female      Red    October       60\n",
      "6     Male   Orange      August      60\n",
      "8     Male     Blue        July      60\n",
      "3   Female     Blue    February      63\n",
      "11    Male    Black   September      65\n",
      "22    Male      Red  September       66\n",
      "20    Male    Black   February       67\n",
      "13    Male    Black       April      72\n",
      "1     Male      Red       March      72\n",
      "21    Male   Yellow       April      74\n",
      "19  Female    Black    October       76\n",
      "0     Male    Black       March      77\n",
      "4     Male    black    October       80\n",
      "17    Male    Black     January      82\n",
      "12    Male    Green    December      85\n",
      "14    Male    Green    January       90\n",
      "15    Male   Yellow   November       90\n",
      "5   Female    Black    december      97\n",
      "\n",
      "\n",
      "\n",
      "\n",
      "Null values in each column:\n",
      " Gender     0\n",
      "F_Color    0\n",
      "B_Month    0\n",
      "Weight     0\n",
      "dtype: int64\n",
      "\n",
      "\n",
      "DataFrame after dropping null values:\n",
      "     Gender  F_Color     B_Month  Weight\n",
      "0     Male    Black       March      77\n",
      "1     Male      Red       March      72\n",
      "2     Male    Black     October      53\n",
      "3   Female     Blue    February      63\n",
      "4     Male    black    October       80\n",
      "5   Female    Black    december      97\n",
      "6     Male   Orange      August      60\n",
      "7   Female      Red   September      59\n",
      "8     Male     Blue        July      60\n",
      "9     Male     Blue         May      58\n",
      "10  Female      Red    October       60\n",
      "11    Male    Black   September      65\n",
      "12    Male    Green    December      85\n",
      "13    Male    Black       April      72\n",
      "14    Male    Green    January       90\n",
      "15    Male   Yellow   November       90\n",
      "16    Male    Black      August      54\n",
      "17    Male    Black     January      82\n",
      "18    Male  Mustard   December       60\n",
      "19  Female    Black    October       76\n",
      "20    Male    Black   February       67\n",
      "21    Male   Yellow       April      74\n",
      "22    Male      Red  September       66\n",
      "\n",
      "\n"
     ]
    }
   ],
   "source": [
    "import pandas as pd\n",
    "\n",
    "### Task 4.6: Read CSV file named ‘hello_sample.csv’ into a Pandas dataframe\n",
    "csv_df = pd.read_csv('hello_sample.csv')\n",
    "\n",
    "### Task 4.7: Print complete dataframe\n",
    "print(\"\\n\")  # Empty line before\n",
    "print(csv_df)\n",
    "print(\"\\n\")  # Empty line after\n",
    "\n",
    "### Task 4.8: Print only bottom 2 records of the dataframe\n",
    "print(\"\\n\")  # Empty line before\n",
    "print(csv_df.tail(2))\n",
    "print(\"\\n\")  # Empty line after\n",
    "\n",
    "### Task 4.9: Print information about the dataframe\n",
    "print(\"\\n\")  # Empty line before\n",
    "print(csv_df.info())\n",
    "print(\"\\n\")  # Empty line after\n",
    "\n",
    "### Task 4.10: Print shape (rows x columns) of the dataframe\n",
    "print(\"\\n\")  # Empty line before\n",
    "print(csv_df.shape)\n",
    "print(\"\\n\")  # Empty line after\n",
    "\n",
    "### Task 4.11: Sort the data of the DataFrame using column ‘Weight’\n",
    "### Assuming 'Weight' is a column in your DataFrame\n",
    "print(\"\\n\")  # Empty line before\n",
    "if 'Weight' in csv_df.columns:\n",
    "    sorted_df = csv_df.sort_values(by='Weight')\n",
    "    print(sorted_df)\n",
    "else:\n",
    "    print(\"\\n'Weight' column not found in DataFrame.\")\n",
    "print(\"\\n\")  # Empty line after\n",
    "\n",
    "### Task 4.12: Use isnull() and dropna() methods of the Pandas dataframe\n",
    "print(\"\\n\")  # Empty line before\n",
    "null_values = csv_df.isnull().sum() \n",
    "print(\"Null values in each column:\\n\", null_values)\n",
    "print(\"\\n\")  # Empty line after\n",
    "\n",
    "### Drop rows with any null values\n",
    "cleaned_df = csv_df.dropna()\n",
    "print(\"DataFrame after dropping null values:\\n\", cleaned_df)\n",
    "print(\"\\n\")  # Empty line after\n"
   ]
  },
  {
   "cell_type": "code",
   "execution_count": null,
   "id": "8ed32821",
   "metadata": {},
   "outputs": [],
   "source": []
  }
 ],
 "metadata": {
  "kernelspec": {
   "display_name": "Python 3 (ipykernel)",
   "language": "python",
   "name": "python3"
  },
  "language_info": {
   "codemirror_mode": {
    "name": "ipython",
    "version": 3
   },
   "file_extension": ".py",
   "mimetype": "text/x-python",
   "name": "python",
   "nbconvert_exporter": "python",
   "pygments_lexer": "ipython3",
   "version": "3.11.7"
  }
 },
 "nbformat": 4,
 "nbformat_minor": 5
}
